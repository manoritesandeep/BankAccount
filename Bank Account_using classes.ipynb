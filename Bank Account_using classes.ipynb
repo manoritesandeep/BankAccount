{
 "cells": [
  {
   "cell_type": "markdown",
   "id": "d19c61c6",
   "metadata": {},
   "source": [
    "Create a bank account class that has two attributes:\n",
    "\n",
    "* owner\n",
    "* balance\n",
    "\n",
    "and two methods:\n",
    "\n",
    "* deposit\n",
    "* withdraw\n",
    "\n",
    "As an added requirement, withdrawals may not exceed the available balance."
   ]
  },
  {
   "cell_type": "code",
   "execution_count": 1,
   "id": "33295c45",
   "metadata": {},
   "outputs": [],
   "source": [
    "class Account:\n",
    "    \n",
    "    \n",
    "    def __init__(self, owner, balance = 0):\n",
    "        \n",
    "        self.owner = owner\n",
    "        self.balance = balance\n",
    "        \n",
    "        print(\"Welcome {} \".format(self.owner))\n",
    "    \n",
    "    def __str__(self):\n",
    "        return f'Account owner: {self.owner} \\nAccount Balance: $ {self.balance}'\n",
    "        \n",
    "    def deposit(self, dep_amt):\n",
    "        \n",
    "        self.balance = dep_amt + self.balance\n",
    "        \n",
    "        print(\"{} your deposit of $ {} has been accepted. \".format(self.owner, dep_amt))\n",
    "        print(\"The new balance is $ {}\".format(self.balance))\n",
    "        \n",
    "    def withdraw(self, wd_amt):\n",
    "        if self.balance >= wd_amt:\n",
    "            self.balance = self.balance - wd_amt\n",
    "            print(\"Withdrawal of {} accepted.\".format(wd_amt))\n",
    "            print(\"The new balance is {}\".format(self.balance))\n",
    "        else:\n",
    "            print(\"Sorry not enough funds, please try a smaller amount.\")"
   ]
  },
  {
   "cell_type": "code",
   "execution_count": 2,
   "id": "789bf961",
   "metadata": {},
   "outputs": [
    {
     "name": "stdout",
     "output_type": "stream",
     "text": [
      "Welcome Josie \n"
     ]
    }
   ],
   "source": [
    "# Instantiate the class\n",
    "a = Account(\"Josie\", 10000)"
   ]
  },
  {
   "cell_type": "code",
   "execution_count": 3,
   "id": "4b7cfffb",
   "metadata": {},
   "outputs": [
    {
     "name": "stdout",
     "output_type": "stream",
     "text": [
      "Account owner: Josie \n",
      "Account Balance: $ 10000\n"
     ]
    }
   ],
   "source": [
    "#Print details of object\n",
    "print(a)"
   ]
  },
  {
   "cell_type": "code",
   "execution_count": 4,
   "id": "b9028e99",
   "metadata": {},
   "outputs": [
    {
     "data": {
      "text/plain": [
       "'Josie'"
      ]
     },
     "execution_count": 4,
     "metadata": {},
     "output_type": "execute_result"
    }
   ],
   "source": [
    "#Show account owner\n",
    "a.owner"
   ]
  },
  {
   "cell_type": "code",
   "execution_count": 5,
   "id": "dad0416a",
   "metadata": {},
   "outputs": [
    {
     "data": {
      "text/plain": [
       "10000"
      ]
     },
     "execution_count": 5,
     "metadata": {},
     "output_type": "execute_result"
    }
   ],
   "source": [
    "#Show account balance\n",
    "a.balance"
   ]
  },
  {
   "cell_type": "code",
   "execution_count": 6,
   "id": "f8600968",
   "metadata": {},
   "outputs": [
    {
     "name": "stdout",
     "output_type": "stream",
     "text": [
      "Josie your deposit of $ 1000 has been accepted. \n",
      "The new balance is $ 11000\n"
     ]
    }
   ],
   "source": [
    "#Make a deposit for josie\n",
    "a.deposit(1000)"
   ]
  },
  {
   "cell_type": "code",
   "execution_count": 7,
   "id": "0940b422",
   "metadata": {},
   "outputs": [
    {
     "name": "stdout",
     "output_type": "stream",
     "text": [
      "Withdrawal of 100 accepted.\n",
      "The new balance is 10900\n"
     ]
    }
   ],
   "source": [
    "#Make a withdrawal \n",
    "a.withdraw(100)"
   ]
  },
  {
   "cell_type": "code",
   "execution_count": 8,
   "id": "00e39f49",
   "metadata": {},
   "outputs": [
    {
     "name": "stdout",
     "output_type": "stream",
     "text": [
      "Sorry not enough funds, please try a smaller amount.\n"
     ]
    }
   ],
   "source": [
    "#Making a withdrawal exceeding the balance ending limit.\n",
    "a.withdraw(12000)"
   ]
  },
  {
   "cell_type": "code",
   "execution_count": null,
   "id": "331db7ca",
   "metadata": {},
   "outputs": [],
   "source": []
  }
 ],
 "metadata": {
  "kernelspec": {
   "display_name": "Python 3 (ipykernel)",
   "language": "python",
   "name": "python3"
  },
  "language_info": {
   "codemirror_mode": {
    "name": "ipython",
    "version": 3
   },
   "file_extension": ".py",
   "mimetype": "text/x-python",
   "name": "python",
   "nbconvert_exporter": "python",
   "pygments_lexer": "ipython3",
   "version": "3.8.8"
  }
 },
 "nbformat": 4,
 "nbformat_minor": 5
}
